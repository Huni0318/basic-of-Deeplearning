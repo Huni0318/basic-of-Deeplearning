{
 "cells": [
  {
   "cell_type": "markdown",
   "metadata": {},
   "source": [
    "# Activation Functions"
   ]
  },
  {
   "cell_type": "code",
   "execution_count": 1,
   "metadata": {},
   "outputs": [],
   "source": [
    "import torch\n",
    "import torch.nn as nn\n",
    "\n",
    "from matplotlib import pyplot as plt"
   ]
  },
  {
   "cell_type": "code",
   "execution_count": 2,
   "metadata": {},
   "outputs": [
    {
     "data": {
      "text/plain": [
       "tensor([-23.7216, -22.9857, -20.3013, -19.2117, -18.9488, -17.9176, -17.6976,\n",
       "        -16.8189, -16.5656, -15.7725, -12.8463, -12.7576, -11.6025, -10.8334,\n",
       "         -9.9237,  -9.8534,  -8.9723,  -8.4142,  -8.1477,  -7.2407,  -6.8350,\n",
       "         -6.4205,  -6.3330,  -6.0039,  -5.8351,  -5.0799,  -5.0049,  -4.8487,\n",
       "         -4.7352,  -4.6572,  -3.9784,  -3.9286,  -3.8793,  -3.5689,  -3.4960,\n",
       "         -3.4156,  -3.2491,  -3.2330,  -3.1482,  -3.1074,  -2.9689,  -2.5036,\n",
       "         -1.7708,  -1.6745,  -1.5376,  -1.4413,  -1.1013,  -0.7645,   0.2692,\n",
       "          0.3084,   1.0150,   1.0205,   1.5249,   1.9681,   2.1578,   2.5266,\n",
       "          2.7883,   3.1856,   3.2121,   3.3456,   3.5265,   3.7420,   3.9069,\n",
       "          4.7026,   5.2570,   5.4611,   5.5691,   6.3613,   6.3635,   6.5809,\n",
       "          6.5849,   6.8093,   7.7975,   8.0909,   8.4423,   8.6828,   8.7562,\n",
       "          8.8274,   9.7338,  10.0421,  10.2440,  11.1389,  11.4314,  11.9364,\n",
       "         12.3320,  12.7650,  12.8290,  13.1427,  13.2145,  13.7227,  13.7825,\n",
       "         14.1332,  14.3042,  14.8858,  15.5868,  16.7750,  16.8397,  17.9844,\n",
       "         26.7247,  28.4041])"
      ]
     },
     "execution_count": 2,
     "metadata": {},
     "output_type": "execute_result"
    }
   ],
   "source": [
    "x = torch.sort(torch.randn(100) *10)[0]\n",
    "x"
   ]
  },
  {
   "cell_type": "markdown",
   "metadata": {},
   "source": [
    "## Sigmoid\n",
    "\n",
    "$$\n",
    "\\sigma(x)=\\frac{1}{1+e^{-x}}\n",
    "$$"
   ]
  },
  {
   "cell_type": "code",
   "execution_count": 3,
   "metadata": {},
   "outputs": [
    {
     "name": "stdout",
     "output_type": "stream",
     "text": [
      "tensor([4.9870e-11, 1.0410e-10, 1.5250e-09, 4.5337e-09, 5.8969e-09, 1.6538e-08,\n",
      "        2.0607e-08, 4.9617e-08, 6.3922e-08, 1.4128e-07, 2.6358e-06, 2.8803e-06,\n",
      "        9.1433e-06, 1.9730e-05, 4.8997e-05, 5.2567e-05, 1.2686e-04, 2.2164e-04,\n",
      "        2.8931e-04, 7.1628e-04, 1.0743e-03, 1.6252e-03, 1.7736e-03, 2.4630e-03,\n",
      "        2.9148e-03, 6.1819e-03, 6.6601e-03, 7.7773e-03, 8.7039e-03, 9.4042e-03,\n",
      "        1.8372e-02, 1.9291e-02, 2.0248e-02, 2.7415e-02, 2.9425e-02, 3.1811e-02,\n",
      "        3.7358e-02, 3.7941e-02, 4.1162e-02, 4.2802e-02, 4.8850e-02, 7.5605e-02,\n",
      "        1.4544e-01, 1.5782e-01, 1.7689e-01, 1.9134e-01, 2.4950e-01, 3.1766e-01,\n",
      "        5.6690e-01, 5.7651e-01, 7.3400e-01, 7.3507e-01, 8.2126e-01, 8.7740e-01,\n",
      "        8.9640e-01, 9.2599e-01, 9.4204e-01, 9.6029e-01, 9.6129e-01, 9.6596e-01,\n",
      "        9.7143e-01, 9.7684e-01, 9.8029e-01, 9.9101e-01, 9.9482e-01, 9.9577e-01,\n",
      "        9.9620e-01, 9.9828e-01, 9.9828e-01, 9.9862e-01, 9.9862e-01, 9.9890e-01,\n",
      "        9.9959e-01, 9.9969e-01, 9.9978e-01, 9.9983e-01, 9.9984e-01, 9.9985e-01,\n",
      "        9.9994e-01, 9.9996e-01, 9.9996e-01, 9.9999e-01, 9.9999e-01, 9.9999e-01,\n",
      "        1.0000e+00, 1.0000e+00, 1.0000e+00, 1.0000e+00, 1.0000e+00, 1.0000e+00,\n",
      "        1.0000e+00, 1.0000e+00, 1.0000e+00, 1.0000e+00, 1.0000e+00, 1.0000e+00,\n",
      "        1.0000e+00, 1.0000e+00, 1.0000e+00, 1.0000e+00])\n"
     ]
    }
   ],
   "source": [
    "act = nn.Sigmoid()\n",
    "print(act(x))"
   ]
  },
  {
   "cell_type": "code",
   "execution_count": 4,
   "metadata": {},
   "outputs": [
    {
     "name": "stdout",
     "output_type": "stream",
     "text": [
      "tensor([4.9870e-11, 1.0410e-10, 1.5250e-09, 4.5337e-09, 5.8969e-09, 1.6538e-08,\n",
      "        2.0607e-08, 4.9617e-08, 6.3922e-08, 1.4128e-07, 2.6358e-06, 2.8803e-06,\n",
      "        9.1433e-06, 1.9730e-05, 4.8997e-05, 5.2567e-05, 1.2686e-04, 2.2164e-04,\n",
      "        2.8931e-04, 7.1628e-04, 1.0743e-03, 1.6252e-03, 1.7736e-03, 2.4630e-03,\n",
      "        2.9148e-03, 6.1819e-03, 6.6601e-03, 7.7773e-03, 8.7039e-03, 9.4042e-03,\n",
      "        1.8372e-02, 1.9291e-02, 2.0248e-02, 2.7415e-02, 2.9425e-02, 3.1811e-02,\n",
      "        3.7358e-02, 3.7941e-02, 4.1162e-02, 4.2802e-02, 4.8850e-02, 7.5605e-02,\n",
      "        1.4544e-01, 1.5782e-01, 1.7689e-01, 1.9134e-01, 2.4950e-01, 3.1766e-01,\n",
      "        5.6690e-01, 5.7651e-01, 7.3400e-01, 7.3507e-01, 8.2126e-01, 8.7740e-01,\n",
      "        8.9640e-01, 9.2599e-01, 9.4204e-01, 9.6029e-01, 9.6129e-01, 9.6596e-01,\n",
      "        9.7143e-01, 9.7684e-01, 9.8029e-01, 9.9101e-01, 9.9482e-01, 9.9577e-01,\n",
      "        9.9620e-01, 9.9828e-01, 9.9828e-01, 9.9862e-01, 9.9862e-01, 9.9890e-01,\n",
      "        9.9959e-01, 9.9969e-01, 9.9978e-01, 9.9983e-01, 9.9984e-01, 9.9985e-01,\n",
      "        9.9994e-01, 9.9996e-01, 9.9996e-01, 9.9999e-01, 9.9999e-01, 9.9999e-01,\n",
      "        1.0000e+00, 1.0000e+00, 1.0000e+00, 1.0000e+00, 1.0000e+00, 1.0000e+00,\n",
      "        1.0000e+00, 1.0000e+00, 1.0000e+00, 1.0000e+00, 1.0000e+00, 1.0000e+00,\n",
      "        1.0000e+00, 1.0000e+00, 1.0000e+00, 1.0000e+00])\n"
     ]
    }
   ],
   "source": [
    "print(torch.sigmoid(x))"
   ]
  },
  {
   "cell_type": "code",
   "execution_count": 5,
   "metadata": {},
   "outputs": [
    {
     "data": {
      "image/png": "[encoded data removed]",
      "text/plain": [
       "<Figure size 432x288 with 1 Axes>"
      ]
     },
     "metadata": {
      "needs_background": "light"
     },
     "output_type": "display_data"
    }
   ],
   "source": [
    "plt.plot(x.numpy(),torch.sigmoid(x).numpy())\n",
    "plt.show()"
   ]
  },
  {
   "cell_type": "markdown",
   "metadata": {},
   "source": [
    "## Hypoerbolic Tangent (TanH)\n",
    "\n",
    "$$\n",
    "\\text{tanh}(x)=\\frac{e^x-e^{-x}}{e^x+e^{-x}}\n",
    "$$"
   ]
  },
  {
   "cell_type": "code",
   "execution_count": 6,
   "metadata": {},
   "outputs": [
    {
     "name": "stdout",
     "output_type": "stream",
     "text": [
      "tensor([-1.0000, -1.0000, -1.0000, -1.0000, -1.0000, -1.0000, -1.0000, -1.0000,\n",
      "        -1.0000, -1.0000, -1.0000, -1.0000, -1.0000, -1.0000, -1.0000, -1.0000,\n",
      "        -1.0000, -1.0000, -1.0000, -1.0000, -1.0000, -1.0000, -1.0000, -1.0000,\n",
      "        -1.0000, -0.9999, -0.9999, -0.9999, -0.9998, -0.9998, -0.9993, -0.9992,\n",
      "        -0.9991, -0.9984, -0.9982, -0.9978, -0.9970, -0.9969, -0.9963, -0.9960,\n",
      "        -0.9947, -0.9867, -0.9437, -0.9321, -0.9117, -0.8940, -0.8010, -0.6437,\n",
      "         0.2629,  0.2990,  0.7678,  0.7701,  0.9095,  0.9617,  0.9736,  0.9873,\n",
      "         0.9925,  0.9966,  0.9968,  0.9975,  0.9983,  0.9989,  0.9992,  0.9998,\n",
      "         0.9999,  1.0000,  1.0000,  1.0000,  1.0000,  1.0000,  1.0000,  1.0000,\n",
      "         1.0000,  1.0000,  1.0000,  1.0000,  1.0000,  1.0000,  1.0000,  1.0000,\n",
      "         1.0000,  1.0000,  1.0000,  1.0000,  1.0000,  1.0000,  1.0000,  1.0000,\n",
      "         1.0000,  1.0000,  1.0000,  1.0000,  1.0000,  1.0000,  1.0000,  1.0000,\n",
      "         1.0000,  1.0000,  1.0000,  1.0000])\n"
     ]
    }
   ],
   "source": [
    "act = nn.Tanh()\n",
    "print(act(x))"
   ]
  },
  {
   "cell_type": "code",
   "execution_count": 7,
   "metadata": {},
   "outputs": [
    {
     "name": "stdout",
     "output_type": "stream",
     "text": [
      "tensor([-1.0000, -1.0000, -1.0000, -1.0000, -1.0000, -1.0000, -1.0000, -1.0000,\n",
      "        -1.0000, -1.0000, -1.0000, -1.0000, -1.0000, -1.0000, -1.0000, -1.0000,\n",
      "        -1.0000, -1.0000, -1.0000, -1.0000, -1.0000, -1.0000, -1.0000, -1.0000,\n",
      "        -1.0000, -0.9999, -0.9999, -0.9999, -0.9998, -0.9998, -0.9993, -0.9992,\n",
      "        -0.9991, -0.9984, -0.9982, -0.9978, -0.9970, -0.9969, -0.9963, -0.9960,\n",
      "        -0.9947, -0.9867, -0.9437, -0.9321, -0.9117, -0.8940, -0.8010, -0.6437,\n",
      "         0.2629,  0.2990,  0.7678,  0.7701,  0.9095,  0.9617,  0.9736,  0.9873,\n",
      "         0.9925,  0.9966,  0.9968,  0.9975,  0.9983,  0.9989,  0.9992,  0.9998,\n",
      "         0.9999,  1.0000,  1.0000,  1.0000,  1.0000,  1.0000,  1.0000,  1.0000,\n",
      "         1.0000,  1.0000,  1.0000,  1.0000,  1.0000,  1.0000,  1.0000,  1.0000,\n",
      "         1.0000,  1.0000,  1.0000,  1.0000,  1.0000,  1.0000,  1.0000,  1.0000,\n",
      "         1.0000,  1.0000,  1.0000,  1.0000,  1.0000,  1.0000,  1.0000,  1.0000,\n",
      "         1.0000,  1.0000,  1.0000,  1.0000])\n"
     ]
    }
   ],
   "source": [
    "print(torch.tanh(x))"
   ]
  },
  {
   "cell_type": "code",
   "execution_count": 8,
   "metadata": {},
   "outputs": [
    {
     "data": {
      "image/png": "[encoded data removed]",
      "text/plain": [
       "<Figure size 432x288 with 1 Axes>"
      ]
     },
     "metadata": {
      "needs_background": "light"
     },
     "output_type": "display_data"
    }
   ],
   "source": [
    "plt.plot(x.numpy(), torch.tanh(x).numpy())\n",
    "plt.show()"
   ]
  }
 ],
 "metadata": {
  "kernelspec": {
   "display_name": "Python 3",
   "language": "python",
   "name": "python3"
  },
  "language_info": {
   "codemirror_mode": {
    "name": "ipython",
    "version": 3
   },
   "file_extension": ".py",
   "mimetype": "text/x-python",
   "name": "python",
   "nbconvert_exporter": "python",
   "pygments_lexer": "ipython3",
   "version": "3.8.3"
  }
 },
 "nbformat": 4,
 "nbformat_minor": 4
}
